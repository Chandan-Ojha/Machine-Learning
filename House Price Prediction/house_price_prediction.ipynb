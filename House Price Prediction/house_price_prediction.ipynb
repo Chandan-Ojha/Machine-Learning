{
  "nbformat": 4,
  "nbformat_minor": 0,
  "metadata": {
    "colab": {
      "name": "house_price_prediction.ipynb",
      "provenance": []
    },
    "kernelspec": {
      "display_name": "Python 3",
      "name": "python3"
    },
    "language_info": {
      "name": "python"
    }
  },
  "cells": [
    {
      "cell_type": "code",
      "metadata": {
        "id": "497jOjlXyIuA"
      },
      "source": [
        "import pandas as pd\n",
        "import numpy as np\n",
        "import matplotlib.pyplot as plt\n",
        "from google.colab import drive\n",
        "from sklearn.model_selection import train_test_split\n",
        "from sklearn.linear_model import LinearRegression\n",
        "from sklearn.metrics import mean_squared_error"
      ],
      "execution_count": 30,
      "outputs": []
    },
    {
      "cell_type": "code",
      "metadata": {
        "colab": {
          "base_uri": "https://localhost:8080/"
        },
        "id": "2LDlf8Wc10Dp",
        "outputId": "2218b83d-9758-4fc5-ff02-0859aecb83ac"
      },
      "source": [
        "drive.mount(\"/content/gdrive\")"
      ],
      "execution_count": 2,
      "outputs": [
        {
          "output_type": "stream",
          "text": [
            "Mounted at /content/gdrive\n"
          ],
          "name": "stdout"
        }
      ]
    },
    {
      "cell_type": "code",
      "metadata": {
        "colab": {
          "base_uri": "https://localhost:8080/"
        },
        "id": "OjG-mjok8Q_h",
        "outputId": "88d62dba-138c-49ea-9498-eb7593991238"
      },
      "source": [
        "% cd /content/gdrive\n",
        "! ls"
      ],
      "execution_count": 3,
      "outputs": [
        {
          "output_type": "stream",
          "text": [
            "/content/gdrive\n",
            "MyDrive\n"
          ],
          "name": "stdout"
        }
      ]
    },
    {
      "cell_type": "code",
      "metadata": {
        "colab": {
          "base_uri": "https://localhost:8080/"
        },
        "id": "-IW1OKh18xMH",
        "outputId": "3fd20d90-3078-4d78-f7a9-473ed4d63a45"
      },
      "source": [
        "% cd MyDrive/Data"
      ],
      "execution_count": 4,
      "outputs": [
        {
          "output_type": "stream",
          "text": [
            "/content/gdrive/MyDrive/Data\n"
          ],
          "name": "stdout"
        }
      ]
    },
    {
      "cell_type": "code",
      "metadata": {
        "colab": {
          "base_uri": "https://localhost:8080/"
        },
        "id": "nbMLaeslEKRF",
        "outputId": "2f1435aa-e0f9-4f51-ed76-fa1a0669a759"
      },
      "source": [
        "! ls\n"
      ],
      "execution_count": 5,
      "outputs": [
        {
          "output_type": "stream",
          "text": [
            "house_price_prediction.csv  housePricePrediction.csv\n"
          ],
          "name": "stdout"
        }
      ]
    },
    {
      "cell_type": "code",
      "metadata": {
        "id": "kifl860VHORd"
      },
      "source": [
        "\n",
        "dataset = pd.read_csv(\"/content/gdrive/MyDrive/Data/house_price_prediction.csv\")"
      ],
      "execution_count": 6,
      "outputs": []
    },
    {
      "cell_type": "code",
      "metadata": {
        "colab": {
          "base_uri": "https://localhost:8080/",
          "height": 204
        },
        "id": "X_4XG8MMMPCj",
        "outputId": "672047ac-b3e3-4568-88da-83c6f9bc0092"
      },
      "source": [
        "dataset.head()"
      ],
      "execution_count": 7,
      "outputs": [
        {
          "output_type": "execute_result",
          "data": {
            "text/html": [
              "<div>\n",
              "<style scoped>\n",
              "    .dataframe tbody tr th:only-of-type {\n",
              "        vertical-align: middle;\n",
              "    }\n",
              "\n",
              "    .dataframe tbody tr th {\n",
              "        vertical-align: top;\n",
              "    }\n",
              "\n",
              "    .dataframe thead th {\n",
              "        text-align: right;\n",
              "    }\n",
              "</style>\n",
              "<table border=\"1\" class=\"dataframe\">\n",
              "  <thead>\n",
              "    <tr style=\"text-align: right;\">\n",
              "      <th></th>\n",
              "      <th>avg_income</th>\n",
              "      <th>avg_area_house_age</th>\n",
              "      <th>avg_area_num_rooms</th>\n",
              "      <th>avg_bedrooms</th>\n",
              "      <th>avg_population</th>\n",
              "      <th>price</th>\n",
              "      <th>address</th>\n",
              "    </tr>\n",
              "  </thead>\n",
              "  <tbody>\n",
              "    <tr>\n",
              "      <th>0</th>\n",
              "      <td>79545.45857</td>\n",
              "      <td>5.682861</td>\n",
              "      <td>7.009188</td>\n",
              "      <td>4.09</td>\n",
              "      <td>23086.80050</td>\n",
              "      <td>1.059034e+06</td>\n",
              "      <td>208 Michael Ferry Apt. 674\\nLaurabury, NE 3701...</td>\n",
              "    </tr>\n",
              "    <tr>\n",
              "      <th>1</th>\n",
              "      <td>79248.64245</td>\n",
              "      <td>6.002900</td>\n",
              "      <td>6.730821</td>\n",
              "      <td>3.09</td>\n",
              "      <td>40173.07217</td>\n",
              "      <td>1.505891e+06</td>\n",
              "      <td>188 Johnson Views Suite 079\\nLake Kathleen, CA...</td>\n",
              "    </tr>\n",
              "    <tr>\n",
              "      <th>2</th>\n",
              "      <td>61287.06718</td>\n",
              "      <td>5.865890</td>\n",
              "      <td>8.512727</td>\n",
              "      <td>5.13</td>\n",
              "      <td>36882.15940</td>\n",
              "      <td>1.058988e+06</td>\n",
              "      <td>9127 Elizabeth Stravenue\\nDanieltown, WI 06482...</td>\n",
              "    </tr>\n",
              "    <tr>\n",
              "      <th>3</th>\n",
              "      <td>63345.24005</td>\n",
              "      <td>7.188236</td>\n",
              "      <td>5.586729</td>\n",
              "      <td>3.26</td>\n",
              "      <td>34310.24283</td>\n",
              "      <td>1.260617e+06</td>\n",
              "      <td>USS Barnett\\nFPO AP 44820</td>\n",
              "    </tr>\n",
              "    <tr>\n",
              "      <th>4</th>\n",
              "      <td>59982.19723</td>\n",
              "      <td>5.040555</td>\n",
              "      <td>7.839388</td>\n",
              "      <td>4.23</td>\n",
              "      <td>26354.10947</td>\n",
              "      <td>6.309435e+05</td>\n",
              "      <td>USNS Raymond\\nFPO AE 09386</td>\n",
              "    </tr>\n",
              "  </tbody>\n",
              "</table>\n",
              "</div>"
            ],
            "text/plain": [
              "    avg_income  ...                                            address\n",
              "0  79545.45857  ...  208 Michael Ferry Apt. 674\\nLaurabury, NE 3701...\n",
              "1  79248.64245  ...  188 Johnson Views Suite 079\\nLake Kathleen, CA...\n",
              "2  61287.06718  ...  9127 Elizabeth Stravenue\\nDanieltown, WI 06482...\n",
              "3  63345.24005  ...                          USS Barnett\\nFPO AP 44820\n",
              "4  59982.19723  ...                         USNS Raymond\\nFPO AE 09386\n",
              "\n",
              "[5 rows x 7 columns]"
            ]
          },
          "metadata": {
            "tags": []
          },
          "execution_count": 7
        }
      ]
    },
    {
      "cell_type": "code",
      "metadata": {
        "colab": {
          "base_uri": "https://localhost:8080/"
        },
        "id": "HyYQ8ANbNq4N",
        "outputId": "20613bb1-5290-4c36-861b-d907d3f12d70"
      },
      "source": [
        "dataset.shape"
      ],
      "execution_count": 8,
      "outputs": [
        {
          "output_type": "execute_result",
          "data": {
            "text/plain": [
              "(5012, 7)"
            ]
          },
          "metadata": {
            "tags": []
          },
          "execution_count": 8
        }
      ]
    },
    {
      "cell_type": "code",
      "metadata": {
        "colab": {
          "base_uri": "https://localhost:8080/",
          "height": 297
        },
        "id": "gZ0aJqCyOY3p",
        "outputId": "bc42ada7-3ce0-4438-ebec-0f1dc14a78b0"
      },
      "source": [
        "dataset.describe()"
      ],
      "execution_count": 9,
      "outputs": [
        {
          "output_type": "execute_result",
          "data": {
            "text/html": [
              "<div>\n",
              "<style scoped>\n",
              "    .dataframe tbody tr th:only-of-type {\n",
              "        vertical-align: middle;\n",
              "    }\n",
              "\n",
              "    .dataframe tbody tr th {\n",
              "        vertical-align: top;\n",
              "    }\n",
              "\n",
              "    .dataframe thead th {\n",
              "        text-align: right;\n",
              "    }\n",
              "</style>\n",
              "<table border=\"1\" class=\"dataframe\">\n",
              "  <thead>\n",
              "    <tr style=\"text-align: right;\">\n",
              "      <th></th>\n",
              "      <th>avg_income</th>\n",
              "      <th>avg_area_house_age</th>\n",
              "      <th>avg_area_num_rooms</th>\n",
              "      <th>avg_bedrooms</th>\n",
              "      <th>avg_population</th>\n",
              "      <th>price</th>\n",
              "    </tr>\n",
              "  </thead>\n",
              "  <tbody>\n",
              "    <tr>\n",
              "      <th>count</th>\n",
              "      <td>5009.000000</td>\n",
              "      <td>5010.000000</td>\n",
              "      <td>5011.000000</td>\n",
              "      <td>5012.000000</td>\n",
              "      <td>5009.000000</td>\n",
              "      <td>5.012000e+03</td>\n",
              "    </tr>\n",
              "    <tr>\n",
              "      <th>mean</th>\n",
              "      <td>68577.804938</td>\n",
              "      <td>5.977508</td>\n",
              "      <td>6.987906</td>\n",
              "      <td>3.982095</td>\n",
              "      <td>36155.832559</td>\n",
              "      <td>1.231947e+06</td>\n",
              "    </tr>\n",
              "    <tr>\n",
              "      <th>std</th>\n",
              "      <td>10661.033166</td>\n",
              "      <td>0.991472</td>\n",
              "      <td>1.006453</td>\n",
              "      <td>1.233945</td>\n",
              "      <td>9928.823462</td>\n",
              "      <td>3.529525e+05</td>\n",
              "    </tr>\n",
              "    <tr>\n",
              "      <th>min</th>\n",
              "      <td>17796.631190</td>\n",
              "      <td>2.644304</td>\n",
              "      <td>3.236194</td>\n",
              "      <td>2.000000</td>\n",
              "      <td>172.610686</td>\n",
              "      <td>1.593866e+04</td>\n",
              "    </tr>\n",
              "    <tr>\n",
              "      <th>25%</th>\n",
              "      <td>61482.244790</td>\n",
              "      <td>5.322274</td>\n",
              "      <td>6.298437</td>\n",
              "      <td>3.140000</td>\n",
              "      <td>29403.512060</td>\n",
              "      <td>9.981375e+05</td>\n",
              "    </tr>\n",
              "    <tr>\n",
              "      <th>50%</th>\n",
              "      <td>68814.925610</td>\n",
              "      <td>5.969828</td>\n",
              "      <td>7.003188</td>\n",
              "      <td>4.050000</td>\n",
              "      <td>36183.287800</td>\n",
              "      <td>1.232983e+06</td>\n",
              "    </tr>\n",
              "    <tr>\n",
              "      <th>75%</th>\n",
              "      <td>75780.621120</td>\n",
              "      <td>6.652302</td>\n",
              "      <td>7.667048</td>\n",
              "      <td>4.490000</td>\n",
              "      <td>42841.741620</td>\n",
              "      <td>1.471756e+06</td>\n",
              "    </tr>\n",
              "    <tr>\n",
              "      <th>max</th>\n",
              "      <td>107701.748400</td>\n",
              "      <td>9.519088</td>\n",
              "      <td>10.759588</td>\n",
              "      <td>6.500000</td>\n",
              "      <td>69621.713380</td>\n",
              "      <td>2.469066e+06</td>\n",
              "    </tr>\n",
              "  </tbody>\n",
              "</table>\n",
              "</div>"
            ],
            "text/plain": [
              "          avg_income  avg_area_house_age  ...  avg_population         price\n",
              "count    5009.000000         5010.000000  ...     5009.000000  5.012000e+03\n",
              "mean    68577.804938            5.977508  ...    36155.832559  1.231947e+06\n",
              "std     10661.033166            0.991472  ...     9928.823462  3.529525e+05\n",
              "min     17796.631190            2.644304  ...      172.610686  1.593866e+04\n",
              "25%     61482.244790            5.322274  ...    29403.512060  9.981375e+05\n",
              "50%     68814.925610            5.969828  ...    36183.287800  1.232983e+06\n",
              "75%     75780.621120            6.652302  ...    42841.741620  1.471756e+06\n",
              "max    107701.748400            9.519088  ...    69621.713380  2.469066e+06\n",
              "\n",
              "[8 rows x 6 columns]"
            ]
          },
          "metadata": {
            "tags": []
          },
          "execution_count": 9
        }
      ]
    },
    {
      "cell_type": "code",
      "metadata": {
        "colab": {
          "base_uri": "https://localhost:8080/"
        },
        "id": "eli3ghjCPB8J",
        "outputId": "b7f80afd-d7fd-49f4-b844-b1acbc6cb56e"
      },
      "source": [
        "dataset.isnull().any()"
      ],
      "execution_count": 10,
      "outputs": [
        {
          "output_type": "execute_result",
          "data": {
            "text/plain": [
              "avg_income             True\n",
              "avg_area_house_age     True\n",
              "avg_area_num_rooms     True\n",
              "avg_bedrooms          False\n",
              "avg_population         True\n",
              "price                 False\n",
              "address                True\n",
              "dtype: bool"
            ]
          },
          "metadata": {
            "tags": []
          },
          "execution_count": 10
        }
      ]
    },
    {
      "cell_type": "code",
      "metadata": {
        "id": "REzOdz05PX-5"
      },
      "source": [
        "dataset = dataset.fillna(method=\"ffill\")"
      ],
      "execution_count": 11,
      "outputs": []
    },
    {
      "cell_type": "code",
      "metadata": {
        "colab": {
          "base_uri": "https://localhost:8080/"
        },
        "id": "HD_lIjeNUl2T",
        "outputId": "46832ca9-cda2-491b-a449-b3d14161edf9"
      },
      "source": [
        "dataset.isnull().any()"
      ],
      "execution_count": 12,
      "outputs": [
        {
          "output_type": "execute_result",
          "data": {
            "text/plain": [
              "avg_income            False\n",
              "avg_area_house_age    False\n",
              "avg_area_num_rooms    False\n",
              "avg_bedrooms          False\n",
              "avg_population        False\n",
              "price                 False\n",
              "address               False\n",
              "dtype: bool"
            ]
          },
          "metadata": {
            "tags": []
          },
          "execution_count": 12
        }
      ]
    },
    {
      "cell_type": "code",
      "metadata": {
        "id": "CXEH161bPmw5"
      },
      "source": [
        "X = dataset[[\"avg_area_house_age\"]].values\n",
        "y = dataset[[\"price\"]].values"
      ],
      "execution_count": 13,
      "outputs": []
    },
    {
      "cell_type": "code",
      "metadata": {
        "colab": {
          "base_uri": "https://localhost:8080/",
          "height": 291
        },
        "id": "xLV8R8diQjQo",
        "outputId": "40e0cb52-b3cb-47f4-f6e0-b0801b1a852e"
      },
      "source": [
        "plt.xlabel(\"X axis --> avg_area_house_age\")\n",
        "plt.ylabel(\"Y axis --> price\")\n",
        "plt.scatter(X,y)\n",
        "plt.show()"
      ],
      "execution_count": 22,
      "outputs": [
        {
          "output_type": "display_data",
          "data": {
            "image/png": "[encoded data removed]",
            "text/plain": [
              "<Figure size 432x288 with 1 Axes>"
            ]
          },
          "metadata": {
            "tags": [],
            "needs_background": "light"
          }
        }
      ]
    },
    {
      "cell_type": "code",
      "metadata": {
        "id": "E5gc5djfP70h"
      },
      "source": [
        "X_train,X_test,y_train,y_test = train_test_split(X,y,test_size=0.2,random_state=0)"
      ],
      "execution_count": 15,
      "outputs": []
    },
    {
      "cell_type": "code",
      "metadata": {
        "colab": {
          "base_uri": "https://localhost:8080/"
        },
        "id": "nb3jDSsxR8mQ",
        "outputId": "6eae3601-e85d-4877-825f-e89f13b38035"
      },
      "source": [
        "model = LinearRegression()\n",
        "model.fit(X_train,y_train)"
      ],
      "execution_count": 16,
      "outputs": [
        {
          "output_type": "execute_result",
          "data": {
            "text/plain": [
              "LinearRegression(copy_X=True, fit_intercept=True, n_jobs=None, normalize=False)"
            ]
          },
          "metadata": {
            "tags": []
          },
          "execution_count": 16
        }
      ]
    },
    {
      "cell_type": "code",
      "metadata": {
        "id": "nvTIuH-JTA8T"
      },
      "source": [
        "y_pred = model.predict(X_test)"
      ],
      "execution_count": 18,
      "outputs": []
    },
    {
      "cell_type": "code",
      "metadata": {
        "id": "DHYxqdx0TUuy"
      },
      "source": [
        "accuracy = model.score(X_test,y_test)\n"
      ],
      "execution_count": 20,
      "outputs": []
    },
    {
      "cell_type": "code",
      "metadata": {
        "colab": {
          "base_uri": "https://localhost:8080/"
        },
        "id": "-VcrX0G92sar",
        "outputId": "728ea40e-d978-4136-d7f8-4cc86fed6f1c"
      },
      "source": [
        "print(\"Model accuracy: \", accuracy * 100, \"%\")"
      ],
      "execution_count": 21,
      "outputs": [
        {
          "output_type": "stream",
          "text": [
            "Model accuracy:  22.467064492945976 %\n"
          ],
          "name": "stdout"
        }
      ]
    },
    {
      "cell_type": "code",
      "metadata": {
        "id": "RDGnl8Jh29f5",
        "colab": {
          "base_uri": "https://localhost:8080/",
          "height": 291
        },
        "outputId": "a2243b03-a6c8-439b-81c3-8b16d555fc82"
      },
      "source": [
        "plt.xlabel(\"X axis --> avg_area_house_age\")\n",
        "plt.ylabel(\"Y axis --> price\")\n",
        "plt.scatter(X, y)\n",
        "plt.plot(X_test, y_pred)\n",
        "plt.show()"
      ],
      "execution_count": 23,
      "outputs": [
        {
          "output_type": "display_data",
          "data": {
            "image/png": "[encoded data removed]",
            "text/plain": [
              "<Figure size 432x288 with 1 Axes>"
            ]
          },
          "metadata": {
            "tags": [],
            "needs_background": "light"
          }
        }
      ]
    },
    {
      "cell_type": "code",
      "metadata": {
        "colab": {
          "base_uri": "https://localhost:8080/"
        },
        "id": "uFd0tQfkXpuH",
        "outputId": "de36f669-8807-4107-9ef8-062e46de5f07"
      },
      "source": [
        "model.predict([[3.5]])"
      ],
      "execution_count": 24,
      "outputs": [
        {
          "output_type": "execute_result",
          "data": {
            "text/plain": [
              "array([[842336.65699485]])"
            ]
          },
          "metadata": {
            "tags": []
          },
          "execution_count": 24
        }
      ]
    },
    {
      "cell_type": "code",
      "metadata": {
        "colab": {
          "base_uri": "https://localhost:8080/"
        },
        "id": "wyhME-O5Yayv",
        "outputId": "2f92fefa-e824-48e5-f216-3d73706ceebb"
      },
      "source": [
        "model.predict([[8.9]])"
      ],
      "execution_count": 26,
      "outputs": [
        {
          "output_type": "execute_result",
          "data": {
            "text/plain": [
              "array([[1697934.67944694]])"
            ]
          },
          "metadata": {
            "tags": []
          },
          "execution_count": 26
        }
      ]
    },
    {
      "cell_type": "code",
      "metadata": {
        "colab": {
          "base_uri": "https://localhost:8080/"
        },
        "id": "h_JHhhY7aCYo",
        "outputId": "aa6d69c2-f7f4-42dd-c9dc-bf7b42792040"
      },
      "source": [
        "y_test"
      ],
      "execution_count": 32,
      "outputs": [
        {
          "output_type": "execute_result",
          "data": {
            "text/plain": [
              "array([[1216888.02  ],\n",
              "       [ 975385.5554],\n",
              "       [ 875799.2473],\n",
              "       ...,\n",
              "       [1028964.474 ],\n",
              "       [1212939.954 ],\n",
              "       [1006580.48  ]])"
            ]
          },
          "metadata": {
            "tags": []
          },
          "execution_count": 32
        }
      ]
    },
    {
      "cell_type": "code",
      "metadata": {
        "colab": {
          "base_uri": "https://localhost:8080/"
        },
        "id": "T1sSza5yaHIO",
        "outputId": "678fe57e-0517-45cb-8e49-3be10bb101ca"
      },
      "source": [
        "y_pred"
      ],
      "execution_count": 33,
      "outputs": [
        {
          "output_type": "execute_result",
          "data": {
            "text/plain": [
              "array([[1011101.63877396],\n",
              "       [1136854.0012048 ],\n",
              "       [ 943680.73262379],\n",
              "       ...,\n",
              "       [1222593.99318576],\n",
              "       [1056317.3682084 ],\n",
              "       [1251412.09937566]])"
            ]
          },
          "metadata": {
            "tags": []
          },
          "execution_count": 33
        }
      ]
    },
    {
      "cell_type": "code",
      "metadata": {
        "colab": {
          "base_uri": "https://localhost:8080/"
        },
        "id": "Iz7ipewKZDSG",
        "outputId": "da29357a-1203-4d37-88a4-9073f1b691c8"
      },
      "source": [
        "error = mean_squared_error(y_test,y_pred)\n",
        "\n",
        "print(error)"
      ],
      "execution_count": 31,
      "outputs": [
        {
          "output_type": "stream",
          "text": [
            "97024662120.1522\n"
          ],
          "name": "stdout"
        }
      ]
    }
  ]
}