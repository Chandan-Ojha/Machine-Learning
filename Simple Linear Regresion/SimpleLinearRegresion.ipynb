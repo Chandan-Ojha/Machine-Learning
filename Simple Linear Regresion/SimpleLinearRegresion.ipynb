{
  "nbformat": 4,
  "nbformat_minor": 0,
  "metadata": {
    "colab": {
      "name": "SimpleLinearRegresion.ipynb",
      "provenance": []
    },
    "kernelspec": {
      "name": "python3",
      "display_name": "Python 3"
    },
    "language_info": {
      "name": "python"
    }
  },
  "cells": [
    {
      "cell_type": "code",
      "metadata": {
        "id": "t9lHNkHIxOm9"
      },
      "source": [
        "import numpy as np\n",
        "from sklearn.linear_model import LinearRegression\n",
        "import matplotlib.pyplot as plt"
      ],
      "execution_count": null,
      "outputs": []
    },
    {
      "cell_type": "code",
      "metadata": {
        "id": "Itu9vMkZQihQ"
      },
      "source": [
        "X = np.array([2.5, 2.2, 3.3, 3.5, 1.7, 3.15, 4.1, 4.7, 1.2, 2.1]).reshape((-1, 1))\n",
        "y = np.array([2.8, 2.2, 3.5, 3.9, 2, 2.3, 2.8, 3.95, 2, 4])"
      ],
      "execution_count": null,
      "outputs": []
    },
    {
      "cell_type": "code",
      "metadata": {
        "colab": {
          "base_uri": "https://localhost:8080/"
        },
        "id": "-BKpljfXVSA-",
        "outputId": "58b7db90-ae7b-4440-92f0-094ff5a70e16"
      },
      "source": [
        "print(X)\n",
        "print(y)"
      ],
      "execution_count": null,
      "outputs": [
        {
          "output_type": "stream",
          "text": [
            "[[2.5 ]\n",
            " [2.2 ]\n",
            " [3.3 ]\n",
            " [3.5 ]\n",
            " [1.7 ]\n",
            " [3.15]\n",
            " [4.1 ]\n",
            " [4.7 ]\n",
            " [1.2 ]\n",
            " [2.1 ]]\n",
            "[2.8  2.2  3.5  3.9  2.   2.3  2.8  3.95 2.   4.  ]\n"
          ],
          "name": "stdout"
        }
      ]
    },
    {
      "cell_type": "code",
      "metadata": {
        "colab": {
          "base_uri": "https://localhost:8080/",
          "height": 279
        },
        "id": "aLjhyg73Wg9E",
        "outputId": "6a9239ab-8675-4166-c5e2-66b2fdc341ca"
      },
      "source": [
        "plt.xlabel(\"X axis --> Reading Hour\")\n",
        "plt.ylabel(\"Y axis --> CGPA\")\n",
        "plt.scatter(X,y)\n",
        "plt.show()"
      ],
      "execution_count": null,
      "outputs": [
        {
          "output_type": "display_data",
          "data": {
            "image/png": "[encoded data removed]",
            "text/plain": [
              "<Figure size 432x288 with 1 Axes>"
            ]
          },
          "metadata": {
            "tags": [],
            "needs_background": "light"
          }
        }
      ]
    },
    {
      "cell_type": "code",
      "metadata": {
        "colab": {
          "base_uri": "https://localhost:8080/"
        },
        "id": "DntkYEjrYwTW",
        "outputId": "7368cbb0-b1a8-4ebd-ad76-2719b95476c4"
      },
      "source": [
        "model = LinearRegression()\n",
        "model.fit(X,y)"
      ],
      "execution_count": null,
      "outputs": [
        {
          "output_type": "execute_result",
          "data": {
            "text/plain": [
              "LinearRegression(copy_X=True, fit_intercept=True, n_jobs=None, normalize=False)"
            ]
          },
          "metadata": {
            "tags": []
          },
          "execution_count": 7
        }
      ]
    },
    {
      "cell_type": "code",
      "metadata": {
        "colab": {
          "base_uri": "https://localhost:8080/"
        },
        "id": "j6F4d9qnXSd0",
        "outputId": "da89f8ae-c599-46a0-f577-a0a2f27ae00d"
      },
      "source": [
        "# theta zero (intercept)\n",
        "intercept = model.intercept_\n",
        "print(intercept)"
      ],
      "execution_count": null,
      "outputs": [
        {
          "output_type": "stream",
          "text": [
            "1.7011276463406213\n"
          ],
          "name": "stdout"
        }
      ]
    },
    {
      "cell_type": "code",
      "metadata": {
        "colab": {
          "base_uri": "https://localhost:8080/"
        },
        "id": "L1uu1m6BJh1p",
        "outputId": "a47b46bc-cbe1-44c8-a3a7-ac144d3887a3"
      },
      "source": [
        "#slop m\n",
        "slop = model.coef_\n",
        "print(slop)"
      ],
      "execution_count": null,
      "outputs": [
        {
          "output_type": "stream",
          "text": [
            "[0.43721348]\n"
          ],
          "name": "stdout"
        }
      ]
    },
    {
      "cell_type": "code",
      "metadata": {
        "colab": {
          "base_uri": "https://localhost:8080/"
        },
        "id": "SlJCQH_oKaHC",
        "outputId": "5bcc7d19-c806-4a61-ea6e-8247e81091fd"
      },
      "source": [
        "# predicting values\n",
        "\n",
        "y_pred = model.predict(X)\n",
        "print(\"Actual values: \",y,\"\\n\")\n",
        "print(\"Predicted values: \",y_pred,\"\\n\")"
      ],
      "execution_count": null,
      "outputs": [
        {
          "output_type": "stream",
          "text": [
            "Actual values:  [2.8  2.2  3.5  3.9  2.   2.3  2.8  3.95 2.   4.  ] \n",
            "\n",
            "Predicted values:  [2.79416135 2.6629973  3.14393213 3.23137483 2.44439056 3.07835011\n",
            " 3.49370292 3.75603101 2.22578382 2.61927596] \n",
            "\n"
          ],
          "name": "stdout"
        }
      ]
    },
    {
      "cell_type": "code",
      "metadata": {
        "id": "FtvIJ2dONcfQ"
      },
      "source": [
        "# alternative way (manual)\n",
        "\n",
        "y_pred_alt = intercept + slop * X"
      ],
      "execution_count": null,
      "outputs": []
    },
    {
      "cell_type": "code",
      "metadata": {
        "colab": {
          "base_uri": "https://localhost:8080/"
        },
        "id": "3YOGLMoBOInv",
        "outputId": "2f0d9aeb-ec31-4a37-f3aa-0667d2c74212"
      },
      "source": [
        "print(y_pred_alt,sep='\\n')"
      ],
      "execution_count": null,
      "outputs": [
        {
          "output_type": "stream",
          "text": [
            "[[2.79416135]\n",
            " [2.6629973 ]\n",
            " [3.14393213]\n",
            " [3.23137483]\n",
            " [2.44439056]\n",
            " [3.07835011]\n",
            " [3.49370292]\n",
            " [3.75603101]\n",
            " [2.22578382]\n",
            " [2.61927596]]\n"
          ],
          "name": "stdout"
        }
      ]
    },
    {
      "cell_type": "code",
      "metadata": {
        "colab": {
          "base_uri": "https://localhost:8080/",
          "height": 265
        },
        "id": "deKRQG8FPEtu",
        "outputId": "b72ed5c2-b259-4fb0-a628-8d807567dd50"
      },
      "source": [
        "plt.scatter(X,y)\n",
        "plt.plot(X,y_pred)\n",
        "plt.show()"
      ],
      "execution_count": null,
      "outputs": [
        {
          "output_type": "display_data",
          "data": {
            "image/png": "[encoded data removed]",
            "text/plain": [
              "<Figure size 432x288 with 1 Axes>"
            ]
          },
          "metadata": {
            "tags": [],
            "needs_background": "light"
          }
        }
      ]
    }
  ]
}